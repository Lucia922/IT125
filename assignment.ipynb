{
 "cells": [
  {
   "cell_type": "code",
   "execution_count": 5,
   "metadata": {},
   "outputs": [],
   "source": [
    "import pandas as pd\n",
    "import seaborn as sns\n",
    "\n",
    "hw = pd.read_csv('assignment_seven.csv')"
   ]
  },
  {
   "cell_type": "code",
   "execution_count": 6,
   "metadata": {},
   "outputs": [
    {
     "name": "stdout",
     "output_type": "stream",
     "text": [
      "     transaction_id transaction_date                             record_id  \\\n",
      "0                 1        7/19/2021  1df9f42a-8c0f-4e3d-aeca-5bd310dd277a   \n",
      "1                 2        9/25/2021  afaf2462-41b1-43dc-8702-264cf2a6ade0   \n",
      "2                 3        10/7/2021  34528325-deb3-4deb-9107-12a89f5d1cfc   \n",
      "3                 4        5/26/2022  6e379186-e61e-4926-ad03-0ac7759d7fab   \n",
      "4                 5       12/17/2021  b0eb4c68-5737-4076-856d-7eacf2e6014d   \n",
      "..              ...              ...                                   ...   \n",
      "995             996        5/26/2022  67a9dcee-3784-482a-9505-2665a7c1cc02   \n",
      "996             997        9/11/2021  7d36bb32-112c-4836-ba3d-6e3bbbbc82d8   \n",
      "997             998       11/25/2021  421ff0bb-919c-4dd8-af59-db9fd3ea3248   \n",
      "998             999        3/11/2022  fe266fd4-c22f-4d3f-a276-74016092df33   \n",
      "999            1000         3/3/2022  ecf09222-1bb5-479c-a5c0-19d0762f340d   \n",
      "\n",
      "                           products  \n",
      "0               TERBUTALINE SULFATE  \n",
      "1                          Fentanyl  \n",
      "2                         Lorazepam  \n",
      "3                       risperidone  \n",
      "4                            Oxygen  \n",
      "..                              ...  \n",
      "995              GANCICLOVIR SODIUM  \n",
      "996                      atovaquone  \n",
      "997          Sour Dock Sheep Sorrel  \n",
      "998                      OCTINOXATE  \n",
      "999  TETRAHYDROZOLINE HYDROCHLORIDE  \n",
      "\n",
      "[967 rows x 4 columns]\n"
     ]
    }
   ],
   "source": [
    "df1 = hw.drop(['full_name'], axis=1).dropna()\n",
    "print(df1)"
   ]
  }
 ],
 "metadata": {
  "language_info": {
   "name": "python"
  },
  "orig_nbformat": 4
 },
 "nbformat": 4,
 "nbformat_minor": 2
}
