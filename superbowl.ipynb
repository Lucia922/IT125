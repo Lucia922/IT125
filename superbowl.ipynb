{
 "cells": [
  {
   "cell_type": "code",
   "execution_count": 1,
   "id": "0063184a-9743-4fc1-8b6c-11bff0e2a3fc",
   "metadata": {},
   "outputs": [],
   "source": [
    "import pandas as pd\n",
    "import numpy as np\n",
    "import seaborn as sns\n"
   ]
  },
  {
   "cell_type": "code",
   "execution_count": 4,
   "id": "bf1a35e2-5138-4a80-82f3-8c15e1ec8502",
   "metadata": {},
   "outputs": [],
   "source": [
    "superbowl_ads_df = pd.read_csv('superbowl-ads.csv')"
   ]
  },
  {
   "cell_type": "code",
   "execution_count": 5,
   "id": "2c15c106-84ae-4181-80aa-af2b7b3c5051",
   "metadata": {},
   "outputs": [
    {
     "data": {
      "text/html": [
       "<div>\n",
       "<style scoped>\n",
       "    .dataframe tbody tr th:only-of-type {\n",
       "        vertical-align: middle;\n",
       "    }\n",
       "\n",
       "    .dataframe tbody tr th {\n",
       "        vertical-align: top;\n",
       "    }\n",
       "\n",
       "    .dataframe thead th {\n",
       "        text-align: right;\n",
       "    }\n",
       "</style>\n",
       "<table border=\"1\" class=\"dataframe\">\n",
       "  <thead>\n",
       "    <tr style=\"text-align: right;\">\n",
       "      <th></th>\n",
       "      <th>year</th>\n",
       "      <th>brand</th>\n",
       "      <th>superbowl_ads_dot_com_url</th>\n",
       "      <th>youtube_url</th>\n",
       "      <th>funny</th>\n",
       "      <th>show_product_quickly</th>\n",
       "      <th>patriotic</th>\n",
       "      <th>celebrity</th>\n",
       "      <th>danger</th>\n",
       "      <th>animals</th>\n",
       "      <th>use_sex</th>\n",
       "    </tr>\n",
       "  </thead>\n",
       "  <tbody>\n",
       "    <tr>\n",
       "      <th>0</th>\n",
       "      <td>2018</td>\n",
       "      <td>Toyota</td>\n",
       "      <td>https://superbowl-ads.com/good-odds-toyota/</td>\n",
       "      <td>https://www.youtube.com/watch?v=zeBZvwYQ-hA</td>\n",
       "      <td>False</td>\n",
       "      <td>False</td>\n",
       "      <td>False</td>\n",
       "      <td>False</td>\n",
       "      <td>False</td>\n",
       "      <td>False</td>\n",
       "      <td>False</td>\n",
       "    </tr>\n",
       "    <tr>\n",
       "      <th>1</th>\n",
       "      <td>2020</td>\n",
       "      <td>Bud Light</td>\n",
       "      <td>https://superbowl-ads.com/2020-bud-light-seltz...</td>\n",
       "      <td>https://www.youtube.com/watch?v=nbbp0VW7z8w</td>\n",
       "      <td>True</td>\n",
       "      <td>True</td>\n",
       "      <td>False</td>\n",
       "      <td>True</td>\n",
       "      <td>True</td>\n",
       "      <td>False</td>\n",
       "      <td>False</td>\n",
       "    </tr>\n",
       "    <tr>\n",
       "      <th>2</th>\n",
       "      <td>2006</td>\n",
       "      <td>Bud Light</td>\n",
       "      <td>https://superbowl-ads.com/2006-bud-light-bear-...</td>\n",
       "      <td>https://www.youtube.com/watch?v=yk0MQD5YgV8</td>\n",
       "      <td>True</td>\n",
       "      <td>False</td>\n",
       "      <td>False</td>\n",
       "      <td>False</td>\n",
       "      <td>True</td>\n",
       "      <td>True</td>\n",
       "      <td>False</td>\n",
       "    </tr>\n",
       "    <tr>\n",
       "      <th>3</th>\n",
       "      <td>2018</td>\n",
       "      <td>Hynudai</td>\n",
       "      <td>https://superbowl-ads.com/hope-detector-nfl-su...</td>\n",
       "      <td>https://www.youtube.com/watch?v=lNPccrGk77A</td>\n",
       "      <td>False</td>\n",
       "      <td>True</td>\n",
       "      <td>False</td>\n",
       "      <td>False</td>\n",
       "      <td>False</td>\n",
       "      <td>False</td>\n",
       "      <td>False</td>\n",
       "    </tr>\n",
       "    <tr>\n",
       "      <th>4</th>\n",
       "      <td>2003</td>\n",
       "      <td>Bud Light</td>\n",
       "      <td>https://superbowl-ads.com/2003-bud-light-hermi...</td>\n",
       "      <td>https://www.youtube.com/watch?v=ovQYgnXHooY</td>\n",
       "      <td>True</td>\n",
       "      <td>True</td>\n",
       "      <td>False</td>\n",
       "      <td>False</td>\n",
       "      <td>True</td>\n",
       "      <td>True</td>\n",
       "      <td>True</td>\n",
       "    </tr>\n",
       "  </tbody>\n",
       "</table>\n",
       "</div>"
      ],
      "text/plain": [
       "   year      brand                          superbowl_ads_dot_com_url  \\\n",
       "0  2018     Toyota        https://superbowl-ads.com/good-odds-toyota/   \n",
       "1  2020  Bud Light  https://superbowl-ads.com/2020-bud-light-seltz...   \n",
       "2  2006  Bud Light  https://superbowl-ads.com/2006-bud-light-bear-...   \n",
       "3  2018    Hynudai  https://superbowl-ads.com/hope-detector-nfl-su...   \n",
       "4  2003  Bud Light  https://superbowl-ads.com/2003-bud-light-hermi...   \n",
       "\n",
       "                                   youtube_url  funny  show_product_quickly  \\\n",
       "0  https://www.youtube.com/watch?v=zeBZvwYQ-hA  False                 False   \n",
       "1  https://www.youtube.com/watch?v=nbbp0VW7z8w   True                  True   \n",
       "2  https://www.youtube.com/watch?v=yk0MQD5YgV8   True                 False   \n",
       "3  https://www.youtube.com/watch?v=lNPccrGk77A  False                  True   \n",
       "4  https://www.youtube.com/watch?v=ovQYgnXHooY   True                  True   \n",
       "\n",
       "   patriotic  celebrity  danger  animals  use_sex  \n",
       "0      False      False   False    False    False  \n",
       "1      False       True    True    False    False  \n",
       "2      False      False    True     True    False  \n",
       "3      False      False   False    False    False  \n",
       "4      False      False    True     True     True  "
      ]
     },
     "execution_count": 5,
     "metadata": {},
     "output_type": "execute_result"
    }
   ],
   "source": [
    "superbowl_ads_df.head()"
   ]
  },
  {
   "cell_type": "code",
   "execution_count": 6,
   "id": "035f1592-1ee9-4c8e-b907-cfeeca3ccb91",
   "metadata": {},
   "outputs": [
    {
     "name": "stdout",
     "output_type": "stream",
     "text": [
      "Brand: \n"
     ]
    },
    {
     "data": {
      "text/plain": [
       "Bud Light    60\n",
       "Budweiser    43\n",
       "Pepsi        25\n",
       "Doritos      25\n",
       "Hynudai      22\n",
       "Coca-Cola    21\n",
       "Kia          13\n",
       "E-Trade      13\n",
       "Toyota       11\n",
       "NFL          11\n",
       "Name: brand, dtype: int64"
      ]
     },
     "execution_count": 6,
     "metadata": {},
     "output_type": "execute_result"
    }
   ],
   "source": [
    "print('Brand: ')\n",
    "superbowl_ads_df.brand.value_counts()"
   ]
  },
  {
   "cell_type": "code",
   "execution_count": 7,
   "id": "816d5625-2d3e-4704-b217-cb0e9ab87791",
   "metadata": {},
   "outputs": [
    {
     "name": "stdout",
     "output_type": "stream",
     "text": [
      "Danger: \n"
     ]
    },
    {
     "data": {
      "text/plain": [
       "False    169\n",
       "True      75\n",
       "Name: danger, dtype: int64"
      ]
     },
     "execution_count": 7,
     "metadata": {},
     "output_type": "execute_result"
    }
   ],
   "source": [
    "print('Danger: ')\n",
    "superbowl_ads_df.danger.value_counts()"
   ]
  },
  {
   "cell_type": "code",
   "execution_count": 8,
   "id": "454bf072-0190-4a44-bdb6-2d97ae2ac7f8",
   "metadata": {},
   "outputs": [
    {
     "name": "stdout",
     "output_type": "stream",
     "text": [
      "show_product_quickly: \n"
     ]
    },
    {
     "data": {
      "text/plain": [
       "True     166\n",
       "False     78\n",
       "Name: show_product_quickly, dtype: int64"
      ]
     },
     "execution_count": 8,
     "metadata": {},
     "output_type": "execute_result"
    }
   ],
   "source": [
    "superbowl_ads_df.show_product_quickly.value_counts()"
   ]
  },
  {
   "cell_type": "code",
   "execution_count": 12,
   "id": "1ab6a630-f2e9-4bc4-8195-0af4a69b8323",
   "metadata": {},
   "outputs": [
    {
     "name": "stdout",
     "output_type": "stream",
     "text": [
      "Funny: \n",
      "brand      funny\n",
      "Bud Light  True     57\n",
      "           False     3\n",
      "Budweiser  False    22\n",
      "           True     21\n",
      "Coca-Cola  False    13\n",
      "           True      8\n",
      "Doritos    True     24\n",
      "           False     1\n",
      "E-Trade    True     12\n",
      "           False     1\n",
      "Hynudai    True     12\n",
      "           False    10\n",
      "Kia        True      8\n",
      "           False     5\n",
      "NFL        False     9\n",
      "           True      2\n",
      "Pepsi      True     18\n",
      "           False     7\n",
      "Toyota     True      6\n",
      "           False     5\n",
      "Name: funny, dtype: int64\n"
     ]
    }
   ],
   "source": [
    "print('Funny: ')\n",
    "Funny = superbowl_ads_df.groupby(['brand']).funny.value_counts()\n",
    "print(Funny)"
   ]
  },
  {
   "cell_type": "code",
   "execution_count": 14,
   "id": "6e083f6e-e626-4430-9464-3dff549d074c",
   "metadata": {},
   "outputs": [
    {
     "name": "stdout",
     "output_type": "stream",
     "text": [
      "Danger: \n",
      "brand      danger\n",
      "Bud Light  False     33\n",
      "           True      27\n",
      "Budweiser  False     36\n",
      "           True       7\n",
      "Coca-Cola  False     15\n",
      "           True       6\n",
      "Doritos    False     14\n",
      "           True      11\n",
      "E-Trade    False     10\n",
      "           True       3\n",
      "Hynudai    False     16\n",
      "           True       6\n",
      "Kia        False      8\n",
      "           True       5\n",
      "NFL        False     11\n",
      "Pepsi      False     19\n",
      "           True       6\n",
      "Toyota     False      7\n",
      "           True       4\n",
      "Name: danger, dtype: int64\n"
     ]
    }
   ],
   "source": [
    "print('Danger: ')\n",
    "Danger = superbowl_ads_df.groupby(['brand']).danger.value_counts()\n",
    "print(Danger)"
   ]
  },
  {
   "cell_type": "code",
   "execution_count": 16,
   "id": "53ac17fb-c06d-41a7-9325-5f5784595245",
   "metadata": {},
   "outputs": [
    {
     "name": "stdout",
     "output_type": "stream",
     "text": [
      "Use sex: \n",
      "brand      use_sex\n",
      "Bud Light  False      36\n",
      "           True       24\n",
      "Budweiser  False      35\n",
      "           True        8\n",
      "Coca-Cola  False      20\n",
      "           True        1\n",
      "Doritos    False      19\n",
      "           True        6\n",
      "E-Trade    False      10\n",
      "           True        3\n",
      "Hynudai    False      19\n",
      "           True        3\n",
      "Kia        False       7\n",
      "           True        6\n",
      "NFL        False      11\n",
      "Pepsi      False      14\n",
      "           True       11\n",
      "Toyota     False      10\n",
      "           True        1\n",
      "Name: use_sex, dtype: int64\n"
     ]
    }
   ],
   "source": [
    "print('Use sex: ')\n",
    "Use_sex = superbowl_ads_df.groupby(['brand']).use_sex.value_counts()\n",
    "print(Use_sex)"
   ]
  },
  {
   "cell_type": "code",
   "execution_count": 18,
   "id": "7e850185-40e3-40ee-83a7-5e5967711b0e",
   "metadata": {},
   "outputs": [
    {
     "name": "stdout",
     "output_type": "stream",
     "text": [
      "Show product quickly: \n",
      "brand      show_product_quickly\n",
      "Bud Light  True                    49\n",
      "           False                   11\n",
      "Budweiser  True                    27\n",
      "           False                   16\n",
      "Coca-Cola  True                    15\n",
      "           False                    6\n",
      "Doritos    True                    22\n",
      "           False                    3\n",
      "E-Trade    True                     7\n",
      "           False                    6\n",
      "Hynudai    True                    12\n",
      "           False                   10\n",
      "Kia        False                    9\n",
      "           True                     4\n",
      "NFL        True                     6\n",
      "           False                    5\n",
      "Pepsi      True                    15\n",
      "           False                   10\n",
      "Toyota     True                     9\n",
      "           False                    2\n",
      "Name: show_product_quickly, dtype: int64\n"
     ]
    }
   ],
   "source": [
    "print('Show product quickly: ')\n",
    "show_product_quickly = superbowl_ads_df.groupby(['brand']).show_product_quickly.value_counts()\n",
    "print(show_product_quickly)"
   ]
  },
  {
   "cell_type": "code",
   "execution_count": 19,
   "id": "5926b562-56bb-4a33-8916-70b5457baf70",
   "metadata": {},
   "outputs": [
    {
     "data": {
      "text/html": [
       "<div>\n",
       "<style scoped>\n",
       "    .dataframe tbody tr th:only-of-type {\n",
       "        vertical-align: middle;\n",
       "    }\n",
       "\n",
       "    .dataframe tbody tr th {\n",
       "        vertical-align: top;\n",
       "    }\n",
       "\n",
       "    .dataframe thead th {\n",
       "        text-align: right;\n",
       "    }\n",
       "</style>\n",
       "<table border=\"1\" class=\"dataframe\">\n",
       "  <thead>\n",
       "    <tr style=\"text-align: right;\">\n",
       "      <th></th>\n",
       "      <th>year</th>\n",
       "    </tr>\n",
       "  </thead>\n",
       "  <tbody>\n",
       "    <tr>\n",
       "      <th>count</th>\n",
       "      <td>244.000000</td>\n",
       "    </tr>\n",
       "    <tr>\n",
       "      <th>mean</th>\n",
       "      <td>2010.254098</td>\n",
       "    </tr>\n",
       "    <tr>\n",
       "      <th>std</th>\n",
       "      <td>5.868324</td>\n",
       "    </tr>\n",
       "    <tr>\n",
       "      <th>min</th>\n",
       "      <td>2000.000000</td>\n",
       "    </tr>\n",
       "    <tr>\n",
       "      <th>25%</th>\n",
       "      <td>2005.000000</td>\n",
       "    </tr>\n",
       "    <tr>\n",
       "      <th>50%</th>\n",
       "      <td>2010.000000</td>\n",
       "    </tr>\n",
       "    <tr>\n",
       "      <th>75%</th>\n",
       "      <td>2015.000000</td>\n",
       "    </tr>\n",
       "    <tr>\n",
       "      <th>max</th>\n",
       "      <td>2020.000000</td>\n",
       "    </tr>\n",
       "  </tbody>\n",
       "</table>\n",
       "</div>"
      ],
      "text/plain": [
       "              year\n",
       "count   244.000000\n",
       "mean   2010.254098\n",
       "std       5.868324\n",
       "min    2000.000000\n",
       "25%    2005.000000\n",
       "50%    2010.000000\n",
       "75%    2015.000000\n",
       "max    2020.000000"
      ]
     },
     "execution_count": 19,
     "metadata": {},
     "output_type": "execute_result"
    }
   ],
   "source": [
    "superbowl_ads_df.describe()"
   ]
  }
 ],
 "metadata": {
  "kernelspec": {
   "display_name": "Python 3 (ipykernel)",
   "language": "python",
   "name": "python3"
  },
  "language_info": {
   "codemirror_mode": {
    "name": "ipython",
    "version": 3
   },
   "file_extension": ".py",
   "mimetype": "text/x-python",
   "name": "python",
   "nbconvert_exporter": "python",
   "pygments_lexer": "ipython3",
   "version": "3.9.0"
  }
 },
 "nbformat": 4,
 "nbformat_minor": 5
}
