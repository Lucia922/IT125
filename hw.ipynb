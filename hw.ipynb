{
 "cells": [
  {
   "cell_type": "code",
   "execution_count": 7,
   "metadata": {},
   "outputs": [],
   "source": [
    "import pandas as pd\n",
    "import seaborn as sns\n",
    "\n",
    "hw = pd.read_csv('assignment_seven.csv')"
   ]
  },
  {
   "cell_type": "code",
   "execution_count": 14,
   "metadata": {},
   "outputs": [
    {
     "name": "stdout",
     "output_type": "stream",
     "text": [
      "     transaction_id transaction_date           full_name  \\\n",
      "0                 1        7/19/2021       Izzy Janssens   \n",
      "1                 2        9/25/2021       Timmy Sanches   \n",
      "2                 3        10/7/2021   Skyler Rawlcliffe   \n",
      "3                 4        5/26/2022  Torrance Petteford   \n",
      "4                 5       12/17/2021      Bendite Fardon   \n",
      "..              ...              ...                 ...   \n",
      "995             996        5/26/2022    Jerrine Lomansey   \n",
      "996             997        9/11/2021         Paddy Askam   \n",
      "997             998       11/25/2021  Krystyna Champneys   \n",
      "998             999        3/11/2022   Gwendolin Layzell   \n",
      "999            1000         3/3/2022    Petronella Grout   \n",
      "\n",
      "                                record_id                        products  \n",
      "0    1df9f42a-8c0f-4e3d-aeca-5bd310dd277a             TERBUTALINE SULFATE  \n",
      "1    afaf2462-41b1-43dc-8702-264cf2a6ade0                        Fentanyl  \n",
      "2    34528325-deb3-4deb-9107-12a89f5d1cfc                       Lorazepam  \n",
      "3    6e379186-e61e-4926-ad03-0ac7759d7fab                     risperidone  \n",
      "4    b0eb4c68-5737-4076-856d-7eacf2e6014d                          Oxygen  \n",
      "..                                    ...                             ...  \n",
      "995  67a9dcee-3784-482a-9505-2665a7c1cc02              GANCICLOVIR SODIUM  \n",
      "996  7d36bb32-112c-4836-ba3d-6e3bbbbc82d8                      atovaquone  \n",
      "997  421ff0bb-919c-4dd8-af59-db9fd3ea3248          Sour Dock Sheep Sorrel  \n",
      "998  fe266fd4-c22f-4d3f-a276-74016092df33                      OCTINOXATE  \n",
      "999  ecf09222-1bb5-479c-a5c0-19d0762f340d  TETRAHYDROZOLINE HYDROCHLORIDE  \n",
      "\n",
      "[967 rows x 5 columns]\n"
     ]
    }
   ],
   "source": [
    "df1 = hw.dropna()\n",
    "print(df1)"
   ]
  },
  {
   "cell_type": "code",
   "execution_count": 12,
   "metadata": {},
   "outputs": [
    {
     "name": "stdout",
     "output_type": "stream",
     "text": [
      "transaction_id       0\n",
      "transaction_date     0\n",
      "full_name            0\n",
      "record_id           32\n",
      "products            33\n",
      "dtype: int64\n"
     ]
    }
   ],
   "source": [
    "df2 = hw.isnull().sum()\n",
    "print(df2)"
   ]
  }
 ],
 "metadata": {
  "interpreter": {
   "hash": "aee8b7b246df8f9039afb4144a1f6fd8d2ca17a180786b69acc140d282b71a49"
  },
  "kernelspec": {
   "display_name": "Python 3.9.0 64-bit",
   "language": "python",
   "name": "python3"
  },
  "language_info": {
   "codemirror_mode": {
    "name": "ipython",
    "version": 3
   },
   "file_extension": ".py",
   "mimetype": "text/x-python",
   "name": "python",
   "nbconvert_exporter": "python",
   "pygments_lexer": "ipython3",
   "version": "3.9.0"
  },
  "orig_nbformat": 4
 },
 "nbformat": 4,
 "nbformat_minor": 2
}
